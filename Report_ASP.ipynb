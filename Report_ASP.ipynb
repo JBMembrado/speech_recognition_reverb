{
  "nbformat": 4,
  "nbformat_minor": 0,
  "metadata": {
    "kernelspec": {
      "display_name": "Python 3",
      "language": "python",
      "name": "python3"
    },
    "language_info": {
      "codemirror_mode": {
        "name": "ipython",
        "version": 3
      },
      "file_extension": ".py",
      "mimetype": "text/x-python",
      "name": "python",
      "nbconvert_exporter": "python",
      "pygments_lexer": "ipython3",
      "version": "3.6.8"
    },
    "colab": {
      "name": "Report.ipynb",
      "provenance": [],
      "collapsed_sections": [
        "LmLTLZhu1lDz",
        "O9zwywuJ7aKz"
      ]
    }
  },
  "cells": [
    {
      "cell_type": "markdown",
      "metadata": {
        "id": "WvXYHLkshJ8i",
        "colab_type": "text"
      },
      "source": [
        "#Introduction\n"
      ]
    },
    {
      "cell_type": "markdown",
      "metadata": {
        "id": "5RNrj_3j1zsy",
        "colab_type": "text"
      },
      "source": [
        "This project aims at evaluating the importance of transformations such as reverberation applied to the input data of a machine learning-based speech recognition system. Through the use of the *pyroomacoustics* library, we have created a toolbox to test speech recognition performances against reverberated datasets. Separately, we also implemented a real time keyword classifier based on a pretrained model."
      ]
    },
    {
      "cell_type": "markdown",
      "metadata": {
        "colab_type": "text",
        "id": "LmLTLZhu1lDz"
      },
      "source": [
        "# Speech recognition in a reverberated environment"
      ]
    },
    {
      "cell_type": "markdown",
      "metadata": {
        "id": "J7ndvihjhJ8k",
        "colab_type": "text"
      },
      "source": [
        "## Review of existing techniques"
      ]
    },
    {
      "cell_type": "markdown",
      "metadata": {
        "id": "QBWwg9q_hJ8l",
        "colab_type": "text"
      },
      "source": [
        "Our project’s starting point was  the tutorial [1], which explains how to build a basic speech recognition network in order to differentiate the ten words ”yes”, ”no”, ”up”, ”down”, ”left”,”right”,  ”on”,  ”off”,  ”stop”,  and  ”go”.  The  tutorial  uses  the speech commands dataset, collected by google, and described in [2]. The tutorial’s algorithm is trained using the architecture described in [3], using convolutional neural networks instead of  deep  neural  networks  which  are  in  use  for  keyword  classification in current applications. This technique is very close to  building  a  network  for  image  classification,  as  the  sound is converted into a spectrogram, and this spectrogram is used as input of the network. The spectrogram represents all frequency components as a function of time, and it can be represented in 2 dimensions. The tutorial [1] uses a standard spectrogram, but actually, the human ear being more sensitive to certain frequencies than others, a better representation  for  speech  recognition would be the Mel-Frequency Cepstral Coefficients.\n",
        "Other approaches to build neural networks working with audio include  recurrent  networks  or  dilated  (atrous)  convolutions.  \n",
        "Pyroomacoustics  is  a  python  package  for  audio  signal  processing for indoor applications. The main function we use in the  scope  of  our  project  is  the  simulation  of  a  room  and  its impulse response. We augment the dataset [2] by convolving every input sound with different impulse responses, to obtain more data."
      ]
    },
    {
      "cell_type": "markdown",
      "metadata": {
        "id": "AcyIWu0ihJ8m",
        "colab_type": "text"
      },
      "source": [
        "## Algorithm description"
      ]
    },
    {
      "cell_type": "markdown",
      "metadata": {
        "id": "iO8jx0H6hJ8m",
        "colab_type": "text"
      },
      "source": [
        "When developing tools for the project, all the code has been written in object-oriented paradigm in order to create an easily adaptable toolbox to test several configurations for the speech recognition framework. This toolbox was based on the already existing \\textit{pyroomacoustics} Python library to work in conjunction with the Google Speech Commands Dataset. The speech recognition system is a machine learning-based speech recognition system from the TensorFlow library.\n"
      ]
    },
    {
      "cell_type": "markdown",
      "metadata": {
        "id": "qro-VteihJ8n",
        "colab_type": "text"
      },
      "source": [
        "**Choice of the dataset**"
      ]
    },
    {
      "cell_type": "markdown",
      "metadata": {
        "id": "xIvWw-FmhJ8o",
        "colab_type": "text"
      },
      "source": [
        "To train the speech recognition system, we have to define a speech dataset. We chose the Google Speech Commands Dataset, which consists of 105,000 .wav audio files of people saying thirty different words. This dataset is very interesting both for its size and diversity.\n",
        "\n",
        "\n",
        "As it is a collection of user-contributed audio files, words are pronounced by several different speakers and in various environments. This is interesting to note that the recording conditions differ according to the users that recorded it, and that they represent various living rooms in which a speech recognition system could be used.\n"
      ]
    },
    {
      "cell_type": "markdown",
      "metadata": {
        "id": "ER0ftep3hJ8p",
        "colab_type": "text"
      },
      "source": [
        "**Dataset transformation**"
      ]
    },
    {
      "cell_type": "markdown",
      "metadata": {
        "id": "vQkLA2OyhJ8p",
        "colab_type": "text"
      },
      "source": [
        "We load the dataset thanks to the \\textit{pyroomacoustics} Google Speech dataset wrapper. It allows us to get a dataset object from the directory where we stored the dataset. The dataset object is a convenient way to manipulate the whole dataset. Once it is loaded, we can access each sample and its corresponding label, as well as the path where it is stored.\n"
      ]
    },
    {
      "cell_type": "markdown",
      "metadata": {
        "id": "-HpFEa04hJ8q",
        "colab_type": "text"
      },
      "source": [
        "The dataset transformation consists of two scripts : \n",
        "- the 'speech_dataset_load.py' script that loads all the samples and labels into a dataset object\n",
        "- the 'reverb_data.py' script that creates a copy of the whole dataset and that applies a reverberation algorithm to each individual sample but maintains the original label of the sample"
      ]
    },
    {
      "cell_type": "markdown",
      "metadata": {
        "id": "PgBleo6YhJ8r",
        "colab_type": "text"
      },
      "source": [
        "At the beginning of the 'speech_dataset_load' script we load the Speech Dataset locally. There is no trick on this part of the project since it consists in a simple utilisation of the pyroomacoustics library. Let us note that the dataset also contains noise samples that are mixed with the speech samples during the training process in order to obtain a more robust speech recognition model in the end.\n"
      ]
    },
    {
      "cell_type": "code",
      "metadata": {
        "id": "mMQW6v_bW2YI",
        "colab_type": "code",
        "colab": {}
      },
      "source": [
        "def load_speech_dataset(subset, playsound=False, noplot=True):\n",
        "\n",
        "    parser = argparse.ArgumentParser(description='Example of using the GoogleSpeechCommands wrapper')\n",
        "    parser.add_argument('--noplot', action='store_true',\n",
        "            help='Do not display any plot')\n",
        "    parser.add_argument('--playsound', action='store_true',\n",
        "            help='Play one example sentence')\n",
        "    args = parser.parse_args()\n",
        "\n",
        "    # create a subset of the Google Speech Commands dataset that contains 10 of each word and the noise samples\n",
        "    data_path = '/tensorflow-master/tensorflow/examples/speech_commands/data'\n",
        "    dataset = pra.datasets.GoogleSpeechCommands(basedir= os.getcwd() + '/' + data_path, download=False, subset=subset)\n",
        "\n",
        "    # print dataset info and first 10 entries\n",
        "    print(dataset)\n",
        "    print()\n",
        "    dataset.head(n=10)\n",
        "\n",
        "    # separate the noise and the speech samples\n",
        "    print()\n",
        "    noise_samps = dataset.filter(speech=0)\n",
        "    print(\"Number of noise samples : %d\" % len(noise_samps))\n",
        "    speech_samps = dataset.filter(speech=1)\n",
        "    print(\"Number of speech samples : %d\" % len(speech_samps))\n",
        "\n",
        "    # print info of first speech sample\n",
        "    print()\n",
        "    print(speech_samps[0])\n",
        "\n",
        "    # list sounds in our dataset and number of occurences\n",
        "    print()\n",
        "    print(\"All sounds in the dataset:\")\n",
        "    print(dataset.classes)\n",
        "\n",
        "    # filter by specific word\n",
        "    selected_word = dataset.classes[1]\n",
        "    matches = speech_samps.filter(word=selected_word)\n",
        "    print()\n",
        "    print(\"Number of '%s' samples : %d\" % (selected_word, len(matches)))\n",
        "\n",
        "    # play sound\n",
        "    if playsound:\n",
        "        matches[0].play()\n",
        "\n",
        "    # show the spectrogram\n",
        "    if not noplot:\n",
        "        import matplotlib.pyplot as plt\n",
        "\n",
        "        plt.figure()\n",
        "        matches[0].plot()\n",
        "\n",
        "        plt.show()\n",
        "\n",
        "    return dataset"
      ],
      "execution_count": 0,
      "outputs": []
    },
    {
      "cell_type": "markdown",
      "metadata": {
        "id": "QHyBgzdChJ8r",
        "colab_type": "text"
      },
      "source": [
        "For the 'reverb_data.py' script, we first load the whole dataset by calling the *load_dataset* function. Then, we create two entities with the function *separate_dataset* : one for the noise samples that will just be copied, and one for the speech samples that will be transformed with reverberation. In parallel, the data directory structure is copied in order to keep the label information for each speech sample in *init_new_folder*."
      ]
    },
    {
      "cell_type": "code",
      "metadata": {
        "id": "oifU3IbJW77P",
        "colab_type": "code",
        "colab": {}
      },
      "source": [
        "def load_dataset(self, subset=10):\n",
        "    \"\"\"\n",
        "    Calls the load_speech_dataset function that creates a Dataset object from the GSD.\n",
        "    \"\"\"\n",
        "    print('Loading the Google Speech Dataset.')\n",
        "    print()\n",
        "    self.raw_dataset = load_speech_dataset(subset)\n",
        "    print('Google Speech Dataset successfully loaded.')\n",
        "    print()\n",
        "\n",
        "def separate_dataset(self):\n",
        "    \"\"\"\n",
        "    Separates the dataset into speech/noise.\n",
        "    \"\"\"\n",
        "    print('Separate dataset between speech and noise :')\n",
        "    self.raw_only_speech = self.raw_dataset.filter(speech=True)\n",
        "    self.raw_only_noise = self.raw_dataset.filter(speech=False)\n",
        "    print('Successfully separated the dataset.')\n",
        "\n",
        "def init_new_folder(self, new_name):\n",
        "    \"\"\"\n",
        "    This method creates and initiates the subfolders containing each wav file.\n",
        "    \"\"\"\n",
        "    self.new_folder_name = new_name\n",
        "    self.new_path = re.sub('data', self.new_folder_name, self.raw_dataset.basedir)\n",
        "\n",
        "    print('The new folder is located at : {0}'.format(self.new_path))\n",
        "    if not os.path.isdir(self.new_path):\n",
        "        os.makedirs(self.new_path)\n",
        "\n",
        "    for subdir in self.raw_dataset.subdirs:\n",
        "        extracted_subdir = re.split('/', subdir)[-2]\n",
        "        # We do not want to apply reverb on the background noise folder,\n",
        "        # so we exclude this folder during this step\n",
        "        if extracted_subdir != '_background_noise_':\n",
        "            if not os.path.exists(self.new_path + '/' + extracted_subdir):\n",
        "                os.makedirs(self.new_path + '/' + extracted_subdir)\n",
        "\n",
        "    print('New Folder initiated.')"
      ],
      "execution_count": 0,
      "outputs": []
    },
    {
      "cell_type": "markdown",
      "metadata": {
        "id": "6_w92xdTXFIn",
        "colab_type": "text"
      },
      "source": [
        "After this initial phase, we simply apply reverberation to every sample in the *dataset* object. For each sample, we retrieve the audio file, create a reverberation model from the class *ReverbModel* and apply the reverberation transformation to this sample."
      ]
    },
    {
      "cell_type": "code",
      "metadata": {
        "id": "zYFXc5XKXG0X",
        "colab_type": "code",
        "colab": {}
      },
      "source": [
        "def init_reverb_model(self):\n",
        "    \"\"\"\n",
        "    Inits the reverberation model to be applied\n",
        "    \"\"\"\n",
        "    self.reverb_model = reverb_model.ReverbModel()\n",
        "    self.reverb_model.reverb_model1()\n",
        "\n",
        "def apply_reverb(self):\n",
        "    \"\"\"\n",
        "    Applies reverberation to all the samples in the dataset\n",
        "    \"\"\"\n",
        "    print('Applying reverberation algorithm to the whole dataset : ')\n",
        "\n",
        "    for idx_sample, sample in enumerate(self.raw_only_speech):\n",
        "        self.init_reverb_model()\n",
        "        audio_sample_no_rev = sample.data\n",
        "        output_path = re.sub('data', self.new_folder_name, sample.meta.file_loc)\n",
        "        self.reverb_model.transform_audio(audio_sample_no_rev, output_path)\n",
        "\n",
        "        if (idx_sample % 500 == 0) and (idx_sample > 0):\n",
        "            print('Now treating sample {0}.'.format(idx_sample))\n",
        "\n",
        "    print('Reverberation applied to the whole speech dataset.')"
      ],
      "execution_count": 0,
      "outputs": []
    },
    {
      "cell_type": "markdown",
      "metadata": {
        "id": "G4MhfxAAXJEj",
        "colab_type": "text"
      },
      "source": [
        "Below is a part of the *ReverbModel* class :\n",
        "- *reverb_model1* is one of the methods creating a reverberation model\n",
        "- transform_audio simply takes the reverberation model, the input audio as a source, and the signal captated from the microphone as the output"
      ]
    },
    {
      "cell_type": "code",
      "metadata": {
        "id": "sEyCuTKUXLqR",
        "colab_type": "code",
        "colab": {}
      },
      "source": [
        "def reverb_model1(self, absorption = 0.2, max_order = 15):\n",
        "    self.room_dimensions = [6, 5, 7]\n",
        "    self.absorption = absorption\n",
        "    self.max_order = max_order\n",
        "    self.fs = 16000\n",
        "\n",
        "    self.shoebox = pra.ShoeBox(\n",
        "        self.room_dimensions,\n",
        "        absorption=self.absorption,\n",
        "        fs=self.fs,\n",
        "        max_order=self.max_order,\n",
        "    )\n",
        "\n",
        "    self.source_position = [2, 3.1, 2]\n",
        "    self.mic = pra.MicrophoneArray(np.array([[2, 1.5, 2]]).T, self.shoebox.fs)   \n",
        "\n",
        "def transform_audio(self, audio_sample, output_path):\n",
        "    \"\"\"\n",
        "    Applies reverberation to the audio_sample.\n",
        "    The source in the virtual room plays the audio_sample signal.\n",
        "    The output is the result of the captation of the microphone in the virtual room.\n",
        "    :param audio_sample: data signal we want to apply reverb on\n",
        "    :param output_path: path where we want to store the output of the reverberation algorithm\n",
        "    \"\"\"\n",
        "    self.shoebox.add_source(self.source_position, signal=audio_sample)\n",
        "    self.shoebox.add_microphone_array(self.mic)\n",
        "\n",
        "    self.shoebox.simulate()\n",
        "    self.shoebox.mic_array.to_wav(output_path, norm=True, bitdepth=np.int16)"
      ],
      "execution_count": 0,
      "outputs": []
    },
    {
      "cell_type": "markdown",
      "metadata": {
        "id": "VmZqJipwXO_s",
        "colab_type": "text"
      },
      "source": [
        "For the reverberation model, we have taken simple models : rectangular rooms (shoeboxes) with one source and one microphone. As stated above, the source is playing the input audio, and the output audio is the signal captated from the microphone.\n",
        "\n",
        "The taken parameters where typical of listening conditions in a big room : \n",
        "- absorption coefficient between 0.1 and 0.2\n",
        "- dimensions around 5 meters\n",
        "- source and microphones placed in the room, not to close to the walls"
      ]
    },
    {
      "cell_type": "markdown",
      "metadata": {
        "id": "S2-laGqhXStq",
        "colab_type": "text"
      },
      "source": [
        "In total, we have 4 reverberation models ranging to the least reverberating one to the most reverberating one."
      ]
    },
    {
      "cell_type": "markdown",
      "metadata": {
        "id": "iJyfEhueXSrG",
        "colab_type": "text"
      },
      "source": [
        "At the end of the process, we write the output file in the new folder containing all the reverberated samples."
      ]
    },
    {
      "cell_type": "markdown",
      "metadata": {
        "id": "VQAD6fNhXWuQ",
        "colab_type": "text"
      },
      "source": [
        "**Mixed Reverberation model**"
      ]
    },
    {
      "cell_type": "markdown",
      "metadata": {
        "id": "KLhYzXnbXW1n",
        "colab_type": "text"
      },
      "source": [
        "The above part details the process of transforming the original dataset into a new dataset where every sample is reverberated. For each sample we took the same reverberation model.\n",
        "One way to explore improvements to the original speech recognition model is to change the reverberation parameters for each sample. Instead of having one reverberation model for each sample, we have an ensemble of reverberation parameters from which we choose one for each sample randomly."
      ]
    },
    {
      "cell_type": "code",
      "metadata": {
        "id": "J7J1iVJ_Xi7F",
        "colab_type": "code",
        "colab": {}
      },
      "source": [
        "def init_random_reverb_model(self):\n",
        "    \"\"\"\n",
        "    Init the reverberation randomly among the choices in param\n",
        "    \"\"\"\n",
        "    params = random.choice(self.random_params)\n",
        "\n",
        "    self.reverb_model = reverb_model.ReverbModel()\n",
        "    self.reverb_model.reverb_model_generic(params[0], params[1], params[2])\n",
        "\n",
        "def apply_reverb_random(self, set_params):\n",
        "    \"\"\"\n",
        "    Applies reverberation to all the samples in the dataset.\n",
        "    For each sample, a random reverberation model is chosen among all the parameters given.\n",
        "    :param set_params: the set of parameters to choose from for the reverberation model.\n",
        "    \"\"\"\n",
        "    print('Applying reverberation to the whole dataset with randomized parameters.')\n",
        "    self.random_params = set_params\n",
        "\n",
        "    for idx_sample, sample in enumerate(self.raw_only_speech):\n",
        "        self.init_random_reverb_model()\n",
        "        audio_sample_no_rev = sample.data\n",
        "        output_path = re.sub('data', self.new_folder_name, sample.meta.file_loc)\n",
        "        self.reverb_model.transform_audio(audio_sample_no_rev, output_path)\n",
        "\n",
        "        if (idx_sample % 500 == 0) and (idx_sample > 0):\n",
        "            print('Now treating sample {0}.'.format(idx_sample))\n",
        "\n",
        "    print('Reverberation applied to the whole speech dataset.')"
      ],
      "execution_count": 0,
      "outputs": []
    },
    {
      "cell_type": "markdown",
      "metadata": {
        "id": "wjWew0Wv_oEZ",
        "colab_type": "text"
      },
      "source": [
        "This acted as a fifth reverberated dataset, being a mix of multiple reverberation models.\n",
        "\n",
        "In total, we had :\n",
        "- the dry model (the original Google Speech Dataset)\n",
        "- 4 reverberated models\n",
        "- the mixed parameters model"
      ]
    },
    {
      "cell_type": "markdown",
      "metadata": {
        "id": "XSX5N6YJYc6p",
        "colab_type": "text"
      },
      "source": [
        "**Training the model with reverberated dataset**"
      ]
    },
    {
      "cell_type": "markdown",
      "metadata": {
        "id": "bsFZgkN46lTZ",
        "colab_type": "text"
      },
      "source": [
        "The training part was performed using *TensorFlow* implementation. The part we changed is the input data we give to the algorithm to process. The command below was used to train the *TensorFlow* model."
      ]
    },
    {
      "cell_type": "markdown",
      "metadata": {
        "id": "Fc8QMU-F8psi",
        "colab_type": "text"
      },
      "source": [
        "We used the script *train.py* from the Audio Recognition *TensorFlow* GitHub."
      ]
    },
    {
      "cell_type": "markdown",
      "metadata": {
        "id": "2NHkPmMX9IyX",
        "colab_type": "text"
      },
      "source": [
        "Let us note that we had to use clusters provided by EPFL to run this part : first trainings took more thant 15 hours on our laptops, as it consists of 18 000 training steps, which corresponds to a huge training process. By using cluster computers, it took less than 4 hours and we were able to run multiple training instances simultaneously."
      ]
    },
    {
      "cell_type": "markdown",
      "metadata": {
        "id": "OJSFLTH2hJ8t",
        "colab_type": "text"
      },
      "source": [
        "## Testing the performances of the model"
      ]
    },
    {
      "cell_type": "markdown",
      "metadata": {
        "id": "YkY_ccgaXq6c",
        "colab_type": "text"
      },
      "source": [
        "Here we detail the way we test the performances of the trained models in the *test_model* script.\n",
        "\n",
        "Once we have trained the speech recognition model with our data, be it the original one, or a reverberated one, we obtain a .pb graph representing our final trained model. With this graph we are able to test the model on validation files."
      ]
    },
    {
      "cell_type": "markdown",
      "metadata": {
        "id": "RD8coWw3CNfO",
        "colab_type": "text"
      },
      "source": [
        "Validation files are files that we did not use during training, and we kept only to test the final model in the end. For each one, we run the script *label_wav* (based on the *TensorFlow* project implementation) that outputs the scores for each label between 0 and 1.\n",
        "\n",
        "Given a sample and a graph, we thus obtain a score giving the prediction that the model gives on each label. We then average the prediction accuracy for each true label on a set of validation files."
      ]
    },
    {
      "cell_type": "code",
      "metadata": {
        "id": "Z9jH4YP7SyjB",
        "colab_type": "code",
        "colab": {}
      },
      "source": [
        "    def label_wav(self, wav, labels, graph, input_name, output_name, how_many_labels):\n",
        "        \"\"\"Loads the model and labels, and runs the inference to print predictions.\"\"\"\n",
        "        if not wav or not tf.io.gfile.exists(wav):\n",
        "            tf.compat.v1.logging.fatal('Audio file does not exist %s', wav)\n",
        "\n",
        "        if not labels or not tf.io.gfile.exists(labels):\n",
        "            tf.compat.v1.logging.fatal('Labels file does not exist %s', labels)\n",
        "\n",
        "        if not graph or not tf.io.gfile.exists(graph):\n",
        "            tf.compat.v1.logging.fatal('Graph file does not exist %s', graph)\n",
        "\n",
        "        labels_list = self.load_labels(labels)\n",
        "\n",
        "        # load graph, which is stored in the default session\n",
        "        self.load_graph(graph)\n",
        "\n",
        "        with open(wav, 'rb') as wav_file:\n",
        "            wav_data = wav_file.read()\n",
        "\n",
        "        return self.run_graph(wav_data, labels_list, input_name, output_name, how_many_labels)"
      ],
      "execution_count": 0,
      "outputs": []
    },
    {
      "cell_type": "markdown",
      "metadata": {
        "id": "YnKYwkvMUky1",
        "colab_type": "text"
      },
      "source": [
        "We then encompass this function in a bigger one that runs the tests and stores the results. We test each model on each dataset (non-reverberated and reverberated ones)."
      ]
    },
    {
      "cell_type": "code",
      "metadata": {
        "id": "9E8w9Bg1Usay",
        "colab_type": "code",
        "colab": {}
      },
      "source": [
        "    def test_model(self, model_number):\n",
        "        self.graph_model_path = self.base_path + '/../results/frozen_graph_set' + str(model_number) + '.pb'\n",
        "        self.conv_labels_path = self.base_path + '/../results/conv_labels.txt'\n",
        "        self.scores = np.zeros(subset)\n",
        "\n",
        "        print('Starting test for model {0}'.format(model_number))\n",
        "\n",
        "        list_indices = range(len(self.list_paths))\n",
        "        sublist_indices = random.choices(list_indices,k=self.subset)\n",
        "\n",
        "\n",
        "        for id, index_sample in enumerate(sublist_indices):\n",
        "\n",
        "            if id % 50 == 0:\n",
        "                print('Currently at sample {0}'.format(id))\n",
        "\n",
        "            self.current_label = self.list_labels[index_sample]\n",
        "            self.scores[id] = self.label_wav(self.base_path + '/' + self.list_paths[index_sample],\n",
        "                                             self.conv_labels_path,\n",
        "                                                       self.graph_model_path, 'wav_data:0', 'labels_softmax:0',\n",
        "                                                       self.how_many_labels)\n",
        "        print('Test for model {0} done.'.format(model_number))\n",
        "        print()\n",
        "\n",
        "    def test_all_models(self, list_models):\n",
        "\n",
        "        self.all_scores = np.zeros(len(list_models))\n",
        "        self.full_scores = np.zeros((len(list_models), self.subset))\n",
        "        path_to_save_scores = self.base_path + '/../results/scores_' + self.data_name + '.npy'\n",
        "        path_to_save_full = self.base_path + '/../results/full_' + self.data_name + '.npy'\n",
        "        random.seed(42)\n",
        "\n",
        "        for index_model, model in enumerate(list_models):\n",
        "            self.test_model(model)\n",
        "            self.full_scores[index_model, :] = self.scores\n",
        "            self.all_scores[index_model] = np.average(self.scores)\n",
        "\n",
        "        np.save(path_to_save_scores, self.all_scores)\n",
        "        np.save(path_to_save_full, self.full_scores)\n"
      ],
      "execution_count": 0,
      "outputs": []
    },
    {
      "cell_type": "markdown",
      "metadata": {
        "id": "O9zwywuJ7aKz",
        "colab_type": "text"
      },
      "source": [
        "#Real Time Implementation"
      ]
    },
    {
      "cell_type": "markdown",
      "metadata": {
        "id": "YdaBrmke1myL",
        "colab_type": "text"
      },
      "source": [
        "The real time implementation was done using the python sounddevice library. In the original tutorial [1], there was already a C++ implementation of real time keyword classification, but it did not accept microphone inputs: it could recognise where the keywords were spoken from a long audio file, in real time. The way this algorithm worked was by applying many times the model, with a lot of different time offsets and averaging the results. This is because the words we want to recognize can start at any time, so we need to take a series of snapshots to have a chance of having an alignment that captures most of the utterance in the time window we feed into the model. If we sample at a high enough rate, then we have a good chance of capturing the word in multiple windows, so averaging the results improves the overall confidence of the prediction.  \n",
        "After getting used to the sounddevice and tensorflow libraries, the main problem we faced to implement such an algorithm in python was the fact that it is not possible to convert the sound input directly into 16 bit linear pulse code modulation format, which is the format of the input to the tensorflow graph, without changing the soundfile library. Therefore we found a way to work around this problem by saving a .wav file and reading it again, every second. Since this process considerably slows down the program, it is not possible to perform window averaging as suggested by the tutorial's C++ implementation. However, good results can already be observed with this implementation. The algorithm also plots the input on which the prediction is being made, at every second.  \n",
        "This is the main file to call to have the real-time classification, it is called real_time.py on our github. It was adapted from an example on the sounddevice library site [4], which already plotted the input in real-time. We call our classification function in update_plot, in order to classify in real_time every window that is plotted. Notice that we have to write and read a wav file in order to feed the correct format to the graph."
      ]
    },
    {
      "cell_type": "code",
      "metadata": {
        "id": "AllS8HIl6ANM",
        "colab_type": "code",
        "colab": {}
      },
      "source": [
        "\"\"\"Plot the live microphone signal(s) with matplotlib, and classifies the word spoken out of 10 known keywords\n",
        "\n",
        "Matplotlib and NumPy have to be installed.\n",
        "This was adapted from an example given on sounddevice. \"\"\"\n",
        "\n",
        "\n",
        "import argparse\n",
        "import queue\n",
        "import sys\n",
        "\n",
        "from matplotlib.animation import FuncAnimation\n",
        "import matplotlib.pyplot as plt\n",
        "import numpy as np\n",
        "import sounddevice as sd\n",
        "import scipy.io.wavfile as wavconv\n",
        "import soundfile as sf\n",
        "\n",
        "from label_wav_realtime import *\n",
        "\n",
        "\n",
        "def int_or_str(text):\n",
        "    \"\"\"Helper function for argument parsing.\"\"\"\n",
        "    try:\n",
        "        return int(text)\n",
        "    except ValueError:\n",
        "        return text\n",
        "\n",
        "\n",
        "parser = argparse.ArgumentParser(add_help=False)\n",
        "parser.add_argument(\n",
        "    '-l', '--list-devices', action='store_true',\n",
        "    help='show list of audio devices and exit')\n",
        "args, remaining = parser.parse_known_args()\n",
        "if args.list_devices:\n",
        "    print(sd.query_devices())\n",
        "    parser.exit(0)\n",
        "parser = argparse.ArgumentParser(\n",
        "    description=__doc__,\n",
        "    formatter_class=argparse.RawDescriptionHelpFormatter,\n",
        "    parents=[parser])\n",
        "parser.add_argument(\n",
        "    'channels', type=int, default=[1], nargs='*', metavar='CHANNEL',\n",
        "    help='input channels to plot (default: the first)')\n",
        "parser.add_argument(\n",
        "    '-d', '--device', type=int_or_str,\n",
        "    help='input device (numeric ID or substring)')\n",
        "parser.add_argument(\n",
        "    '-w', '--window', type=float, default=1000, metavar='DURATION',\n",
        "    help='visible time slot (default: %(default)s ms)')\n",
        "parser.add_argument(\n",
        "    '-i', '--interval', type=float, default=30,\n",
        "    help='minimum time between plot updates (default: %(default)s ms)')\n",
        "parser.add_argument(\n",
        "    '-b', '--blocksize', type=int, help='block size (in samples)')\n",
        "parser.add_argument(\n",
        "    '-r', '--samplerate', type=float, help='sampling rate of audio device')\n",
        "parser.add_argument(\n",
        "    '-n', '--downsample', type=int, default=1, metavar='N',\n",
        "    help='display every Nth sample (default: %(default)s)')\n",
        "args = parser.parse_args(remaining)\n",
        "if any(c < 1 for c in args.channels):\n",
        "    parser.error('argument CHANNEL: must be >= 1')\n",
        "mapping = [c - 1 for c in args.channels]  # Channel numbers start with 1\n",
        "q = queue.Queue()\n",
        "\n",
        "\n",
        "def audio_callback(indata, frames, time, status):\n",
        "    \"\"\"This is called (from a separate thread) for each audio block.\"\"\"\n",
        "    if status:\n",
        "        print(status, file=sys.stderr)\n",
        "    # Fancy indexing with mapping creates a (necessary!) copy:\n",
        "    q.put(indata[::args.downsample, mapping])\n",
        "\n",
        "\n",
        "def update_plot(frame):\n",
        "    \"\"\"This is called by matplotlib for each plot update.\n",
        "\n",
        "    Typically, audio callbacks happen more frequently than plot updates,\n",
        "    therefore the queue tends to contain multiple blocks of audio data.\n",
        "\n",
        "    \"\"\"\n",
        "    global i\n",
        "    i=i+1\n",
        "    global plotdata\n",
        "    while True:\n",
        "        try:\n",
        "            data = q.get_nowait()\n",
        "        except queue.Empty:\n",
        "            break\n",
        "        shift = len(data)\n",
        "        plotdata = np.roll(plotdata, -shift, axis=0)\n",
        "        plotdata[-shift:, :] = data\n",
        "\n",
        "    sf.write('wavfile.wav', plotdata, 16000, subtype='PCM_16',format='wav')\n",
        "    with open('wavfile.wav', 'rb') as wav_file:\n",
        "        bitdata = wav_file.read()\n",
        "    label = label_wav(bitdata, 'conv_labels.txt', 'first_model_graph_anechoic.pb')\n",
        "    if label[0] != 0:\n",
        "        print(label)\n",
        "\n",
        "    print(i)\n",
        "\n",
        "    for column, line in enumerate(lines):\n",
        "        line.set_ydata(plotdata[:, column])\n",
        "    return lines\n",
        "\n",
        "\n",
        "try:\n",
        "\n",
        "    args.samplerate=16000\n",
        "\n",
        "    length = int(args.window * args.samplerate / (1000 * args.downsample))\n",
        "    plotdata = np.zeros((length, len(args.channels)))\n",
        "\n",
        "    fig, ax = plt.subplots()\n",
        "    lines = ax.plot(plotdata)\n",
        "    if len(args.channels) > 1:\n",
        "        ax.legend(['channel {}'.format(c) for c in args.channels],\n",
        "                  loc='lower left', ncol=len(args.channels))\n",
        "    ax.axis((0, len(plotdata), -1, 1))\n",
        "    ax.set_yticks([0])\n",
        "    ax.yaxis.grid(True)\n",
        "    ax.tick_params(bottom=False, top=False, labelbottom=False,\n",
        "                   right=False, left=False, labelleft=False)\n",
        "    fig.tight_layout(pad=0)\n",
        "\n",
        "    stream = sd.InputStream(\n",
        "        device=args.device, channels=max(args.channels),\n",
        "        samplerate=args.samplerate, callback=audio_callback)\n",
        "    i=0\n",
        "    ani = FuncAnimation(fig, update_plot, interval=1000, blit=True)\n",
        "    with stream:\n",
        "        plt.show()\n",
        "except Exception as e:\n",
        "    parser.exit(type(e).__name__ + ': ' + str(e))\n"
      ],
      "execution_count": 0,
      "outputs": []
    },
    {
      "cell_type": "markdown",
      "metadata": {
        "id": "lDg49JWy_tOq",
        "colab_type": "text"
      },
      "source": [
        "In this second file, called label_wav_realtime.py on our github, we load a pretrained tensorflow graph and make it predict on the data from the wav file."
      ]
    },
    {
      "cell_type": "code",
      "metadata": {
        "id": "YCW2YK5j-FTQ",
        "colab_type": "code",
        "colab": {}
      },
      "source": [
        "def load_graph(filename):\n",
        "  \"\"\"Unpersists graph from file as default graph.\"\"\"\n",
        "  with tf.io.gfile.GFile(filename, 'rb') as f:\n",
        "    graph_def = tf.compat.v1.GraphDef()\n",
        "    graph_def.ParseFromString(f.read())\n",
        "    tf.import_graph_def(graph_def, name='')\n",
        "\n",
        "\n",
        "def load_labels(filename):\n",
        "  \"\"\"Read in labels, one label per line.\"\"\"\n",
        "  return [line.rstrip() for line in tf.io.gfile.GFile(filename)]\n",
        "\n",
        "\n",
        "def run_graph(wav_data, labels, input_layer_name, output_layer_name,\n",
        "              num_top_predictions):\n",
        "  \"\"\"Runs the audio data through the graph and prints predictions.\"\"\"\n",
        "  with tf.compat.v1.Session() as sess:\n",
        "    # Feed the audio data as input to the graph.\n",
        "    #   predictions  will contain a two-dimensional array, where one\n",
        "    #   dimension represents the input image count, and the other has\n",
        "    #   predictions per class\n",
        "    softmax_tensor = sess.graph.get_tensor_by_name(output_layer_name)\n",
        "    predictions, = sess.run(softmax_tensor, {input_layer_name: wav_data})\n",
        "\n",
        "    # Sort to show labels in order of confidence\n",
        "    top_k = predictions.argsort()[-num_top_predictions:][::-1]\n",
        "\n",
        "    for node_id in top_k:\n",
        "      human_string = labels[node_id]\n",
        "      score = predictions[node_id]\n",
        "      print('%s (score = %.5f)' % (human_string, score))\n",
        "    return top_k\n",
        "\n",
        "\n",
        "def label_wav(wav_data, labels, graph, input_name='wav_data:0', output_name='labels_softmax:0', how_many_labels=3):\n",
        "  \"\"\"Loads the model and labels, and runs the inference to print predictions.\"\"\"\n",
        "\n",
        "  if not labels or not tf.io.gfile.exists(labels):\n",
        "    tf.compat.v1.logging.fatal('Labels file does not exist %s', labels)\n",
        "\n",
        "  if not graph or not tf.io.gfile.exists(graph):\n",
        "    tf.compat.v1.logging.fatal('Graph file does not exist %s', graph)\n",
        "\n",
        "  labels_list = load_labels(labels)\n",
        "\n",
        "  # load graph, which is stored in the default session\n",
        "  load_graph(graph)\n",
        "\n",
        "  return run_graph(wav_data, labels_list, input_name, output_name, how_many_labels)"
      ],
      "execution_count": 0,
      "outputs": []
    },
    {
      "cell_type": "markdown",
      "metadata": {
        "id": "2GDzrqTF1AHh",
        "colab_type": "text"
      },
      "source": [
        "This real time implementation could allow us to adapt a keyword classifier to a certain room, by choosing weights trained with a room similar to the one we are in. "
      ]
    },
    {
      "cell_type": "markdown",
      "metadata": {
        "id": "r121TtNchJ8t",
        "colab_type": "text"
      },
      "source": [
        "# Results and discussion"
      ]
    },
    {
      "cell_type": "markdown",
      "metadata": {
        "id": "u2thisN35c5v",
        "colab_type": "text"
      },
      "source": [
        "Scores of dry model:\n",
        "\n",
        "|        | anechoic | reverb 1 | reverb 2 | reverb 3 | reverb 4 | mixed models |\n",
        "|--------|----------|----------|----------|----------|----------|--------------|\n",
        "| scores | 72.6% | 77.2% |  70.7% | 74.9%  |  72.3% | 72.4%    |\n",
        "\n",
        "\n",
        "Scores of model 1: \n",
        "\n",
        "\n",
        "|        | anechoic | reverb 1 | reverb 2 | reverb 3 | reverb 4 | mixed models |\n",
        "|--------|----------|----------|----------|----------|----------|--------------|\n",
        "| scores | 69.1%  | 73.0% | 67.3% | 71.3% | 70.8% |  69.5%   |\n",
        "\n",
        "Scores of model 2:\n",
        "\n",
        "|        | anechoic | reverb 1 | reverb 2 | reverb 3 | reverb 4 | mixed models |\n",
        "|--------|----------|----------|----------|----------|----------|--------------|\n",
        "| scores | 63.8% | 68.7% | 61.6% | 66.8% | 67.0% | 64.7%    |\n",
        "\n",
        "Scores of model 3:\n",
        "\n",
        "|        | anechoic | reverb 1 | reverb 2 | reverb 3 | reverb 4 | mixed models |\n",
        "|--------|----------|----------|----------|----------|----------|--------------|\n",
        "| scores | 65.3% | 70.6% |64.7% | 68.1% | 65.0% |  66.8%   |\n",
        "\n",
        "Scores of model 4:\n",
        "\n",
        "\n",
        "|        | anechoic | reverb 1 | reverb 2 | reverb 3 | reverb 4 | mixed models |\n",
        "|--------|----------|----------|----------|----------|----------|--------------|\n",
        "| scores | 66.2% | 74.6%| 66.6% | 71.1% |  69.1%| 69.0%   |\n",
        "\n",
        "\n",
        "\n",
        "Scores of mixed reverb model:\n",
        "\n",
        "\n",
        "|        | anechoic | reverb 1 | reverb 2 | reverb 3 | reverb 4 | mixed models |\n",
        "|--------|----------|----------|----------|----------|----------|--------------|\n",
        "| scores | 66.1%| 70.6%| 66.2% | 69.9% | 69.5% |67.2%   |\n",
        "\n",
        "\n",
        "\n"
      ]
    },
    {
      "cell_type": "markdown",
      "metadata": {
        "id": "tQul41CyPVJR",
        "colab_type": "text"
      },
      "source": [
        "The scores displayed above are the means of the scores given by the model at its output layer. The scores represent how confident the model is in its prediction. The final score is the mean of the scores over 200 samples for each dataset. For classification, the label corresponding to the highest score is the prediction.  \n",
        "Our first expectation was that we would obtain better results in the tests if the test was processed in the same way as the training data. It is interesting to see that this is not the case for all our models: it is only true for model 1. In fact, in the case of model 2, it is even the dataset that is the least well predicted.  \n",
        "One interesting result is also that the model trained on dry data is by far better than the other models, for all testing datasets. This result is a little bit disappointing as it means we have failed to improve the algorithm's performances by augmenting the dataset.  \n",
        "We had also expected to see a ranking of the different models according to the \"amount of reverberation\" that we had put in every model, unfortunately we do not really see such a behaviour in our results: model 1 has much better scores than model 2, but model 4 has scores which are very close to model 1.\n",
        "We might explain those surprising results by the fact that the original dry dataset is actually not fully dry, but includes a lot of different impulse responses, since the data comes from recordings people have made in their home. The original dataset might actually be a lot more diverse in terms of impulse responses than what we created artificially, which had 4 different impulse responses at most, and therefore gives better results. \n"
      ]
    },
    {
      "cell_type": "code",
      "metadata": {
        "id": "mUhU7e6NfQTA",
        "colab_type": "code",
        "outputId": "93b131a2-c5e0-49b2-c81e-c75f03dd5eb8",
        "colab": {
          "base_uri": "https://localhost:8080/",
          "height": 315
        }
      },
      "source": [
        "import numpy as np\n",
        "import matplotlib.pyplot as plt\n",
        "\n",
        "results= [[0.72592986, 0.77158651, 0.70728204, 0.74885913, 0.72304554, 0.72410606],\n",
        "[0.69062885, 0.7299644,  0.67326452, 0.71344629, 0.70770812, 0.69477109],\n",
        "[0.6381686,  0.6868683,  0.61563976, 0.66805035, 0.66979465, 0.6474184 ],\n",
        "[0.65324595, 0.70628374 ,0.6472106 , 0.68137294, 0.64950378 ,0.66792668],\n",
        "[0.66174808, 0.74576864, 0.66628282 ,0.71110665, 0.69089016, 0.69000403],\n",
        "[0.66073624, 0.7057416,  0.66204827, 0.6992094,  0.69452024, 0.67156678]]\n",
        "\n",
        "#means according to the dataset\n",
        "print('means of datasets', np.mean(results,axis=0))\n",
        "\n",
        "#means according to the model\n",
        "print('means of models', np.mean(results,axis=1))\n",
        "\n",
        "plt.boxplot(results,labels=('anechoic','1','2','3','4','mix'))\n",
        "plt.title('Model Performances on differently reverberated datasets')\n",
        "plt.show()\n"
      ],
      "execution_count": 0,
      "outputs": [
        {
          "output_type": "stream",
          "text": [
            "means of datasets [0.67174293 0.72436887 0.66195467 0.70367413 0.68924375 0.68263217]\n",
            "means of models [0.73346819 0.70163054 0.65432334 0.66759061 0.69430006 0.68230376]\n"
          ],
          "name": "stdout"
        },
        {
          "output_type": "display_data",
          "data": {
            "image/png": "[encoded data removed]",
            "text/plain": [
              "<Figure size 432x288 with 1 Axes>"
            ]
          },
          "metadata": {
            "tags": []
          }
        }
      ]
    },
    {
      "cell_type": "markdown",
      "metadata": {
        "id": "p2tAktM2hJ8u",
        "colab_type": "text"
      },
      "source": [
        "# Conclusion"
      ]
    },
    {
      "cell_type": "markdown",
      "metadata": {
        "id": "xScp3-hpXN1Z",
        "colab_type": "text"
      },
      "source": [
        "In this project, we implemented a real time keyword classifier using the sounddevice library, and we augmented the google speech commands dataset with the pyroomacoustics library to train a more robust keyword classifier. Results we obtained were not the ones we expected, but they were relevant nevertheless."
      ]
    },
    {
      "cell_type": "markdown",
      "metadata": {
        "id": "NHGIC-q60rPS",
        "colab_type": "text"
      },
      "source": [
        "Bibliography:  \n",
        "[1]:https://github.com/tensorflow/docs/blob/master/site/en/r1/tutorials/sequences/audio_recognition.md\n",
        "\n",
        "[2]:Speech commands: A dataset for limited-vocabulary speech recognition, Warden,Pete 2018\n",
        "\n",
        "[3]:Convolutional neural networks for small-footprint keyword spotting, Sainath 2015  \n",
        "[4]:https://python-sounddevice.readthedocs.io/en/0.3.14/"
      ]
    }
  ]
}